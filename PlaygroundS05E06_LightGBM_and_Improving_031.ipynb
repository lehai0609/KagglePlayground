{
  "nbformat": 4,
  "nbformat_minor": 0,
  "metadata": {
    "colab": {
      "provenance": [],
      "machine_shape": "hm",
      "mount_file_id": "1xbnioxtuSA8UPkgojpXe4RP2Bk6WApJv",
      "authorship_tag": "ABX9TyPFOi35aAWOGc2GB6lh0JI4",
      "include_colab_link": true
    },
    "kernelspec": {
      "name": "python3",
      "display_name": "Python 3"
    },
    "language_info": {
      "name": "python"
    }
  },
  "cells": [
    {
      "cell_type": "markdown",
      "metadata": {
        "id": "view-in-github",
        "colab_type": "text"
      },
      "source": [
        "<a href=\"https://colab.research.google.com/github/lehai0609/KagglePlayground/blob/main/PlaygroundS05E06_LightGBM_and_Improving_031.ipynb\" target=\"_parent\"><img src=\"https://colab.research.google.com/assets/colab-badge.svg\" alt=\"Open In Colab\"/></a>"
      ]
    },
    {
      "cell_type": "markdown",
      "source": [
        "## 1. Import data"
      ],
      "metadata": {
        "id": "4dmxC5Jegw9i"
      }
    },
    {
      "cell_type": "code",
      "metadata": {
        "id": "79dc4993"
      },
      "source": [
        "import pandas as pd\n",
        "import os\n",
        "import numpy as np\n",
        "from sklearn.model_selection import train_test_split\n",
        "from sklearn.preprocessing import LabelEncoder\n",
        "import lightgbm as lgb\n",
        "\n",
        "# Define the base folder path\n",
        "base_folder = '/content/drive/MyDrive/Kaggle/Playground S5E6'\n",
        "\n",
        "# Import train.csv as synthetic_df\n",
        "synthetic_df = pd.read_csv(os.path.join(base_folder, 'train.csv'))\n",
        "test_df = pd.read_csv(os.path.join(base_folder, 'test.csv'))\n",
        "original_df = pd.read_csv(os.path.join(base_folder, 'Fertilizer Prediction.csv'))"
      ],
      "execution_count": 36,
      "outputs": []
    },
    {
      "cell_type": "code",
      "source": [
        "synthetic_df.info()"
      ],
      "metadata": {
        "colab": {
          "base_uri": "https://localhost:8080/"
        },
        "id": "F55s5Bmn00O5",
        "outputId": "9eb05358-fd49-45e2-e1c5-6546aa2ef48b"
      },
      "execution_count": 37,
      "outputs": [
        {
          "output_type": "stream",
          "name": "stdout",
          "text": [
            "<class 'pandas.core.frame.DataFrame'>\n",
            "RangeIndex: 750000 entries, 0 to 749999\n",
            "Data columns (total 10 columns):\n",
            " #   Column           Non-Null Count   Dtype \n",
            "---  ------           --------------   ----- \n",
            " 0   id               750000 non-null  int64 \n",
            " 1   Temparature      750000 non-null  int64 \n",
            " 2   Humidity         750000 non-null  int64 \n",
            " 3   Moisture         750000 non-null  int64 \n",
            " 4   Soil Type        750000 non-null  object\n",
            " 5   Crop Type        750000 non-null  object\n",
            " 6   Nitrogen         750000 non-null  int64 \n",
            " 7   Potassium        750000 non-null  int64 \n",
            " 8   Phosphorous      750000 non-null  int64 \n",
            " 9   Fertilizer Name  750000 non-null  object\n",
            "dtypes: int64(7), object(3)\n",
            "memory usage: 57.2+ MB\n"
          ]
        }
      ]
    },
    {
      "cell_type": "markdown",
      "source": [
        "## 2. Preparation for modelling\n",
        "\n",
        "Use basic lightGBM for baseline modelling.\n",
        "- Encode categorical features & target"
      ],
      "metadata": {
        "id": "ctmf0lZ80Hnx"
      }
    },
    {
      "cell_type": "code",
      "source": [
        "# Handle Categorical variables\n",
        "categorical_features = ['Soil Type', 'Crop Type']\n",
        "for col in categorical_features:\n",
        "  synthetic_df[col] = synthetic_df[col].astype('category')\n",
        "  test_df[col] = test_df[col].astype('category')"
      ],
      "metadata": {
        "id": "P_A7D0cn0mhg"
      },
      "execution_count": 38,
      "outputs": []
    },
    {
      "cell_type": "code",
      "source": [
        "# Define features and target\n",
        "# Fertilizer Name is my target variable. And it should be encoded as categorical data too.\n",
        "target_col = 'Fertilizer Name'\n",
        "feature_cols = ['Soil Type', 'Crop Type', 'Humidity', 'Temparature', 'Moisture', 'Nitrogen', 'Potassium']\n",
        "\n",
        "X = synthetic_df[feature_cols]\n",
        "y = synthetic_df[target_col]\n",
        "\n",
        "# If target is categorical, encode it\n",
        "if y.dtype == 'object':\n",
        "    target_encoder = LabelEncoder()\n",
        "    y_encoded = target_encoder.fit_transform(y)\n",
        "    y = y_encoded"
      ],
      "metadata": {
        "id": "5e26ZtqW1p4d"
      },
      "execution_count": 39,
      "outputs": []
    },
    {
      "cell_type": "code",
      "source": [
        "# Train_test Split\n",
        "X_train, X_test, y_train, y_test = train_test_split(\n",
        "    X, y, test_size=0.2, random_state=42, stratify=y\n",
        ")\n",
        "\n",
        "print(f\"Training set: {X_train.shape}\")\n",
        "print(f\"Test set: {X_test.shape}\")"
      ],
      "metadata": {
        "colab": {
          "base_uri": "https://localhost:8080/"
        },
        "id": "E_U9Yopb3LQ2",
        "outputId": "e15c922f-9325-4d47-a9a2-9f894d8ad77f"
      },
      "execution_count": 40,
      "outputs": [
        {
          "output_type": "stream",
          "name": "stdout",
          "text": [
            "Training set: (600000, 7)\n",
            "Test set: (150000, 7)\n"
          ]
        }
      ]
    },
    {
      "cell_type": "code",
      "source": [
        "from unittest.mock import call\n",
        "# Create LightGBM datasets\n",
        "train_data = lgb.Dataset(X_train, label=y_train)\n",
        "test_data = lgb.Dataset(X_test, label=y_test)\n",
        "\n",
        "# Basic parameters for baseline\n",
        "params = {\n",
        "    'objective': 'multiclass',  # or 'regression' if predicting continuous values\n",
        "    'num_class': len(np.unique(y)),  # number of classes\n",
        "    'metric': 'multi_logloss',  # or 'rmse' for regression\n",
        "    'boosting_type': 'gbdt',\n",
        "    'num_leaves': 31,\n",
        "    'learning_rate': 0.05,\n",
        "    'feature_fraction': 0.9,\n",
        "    'bagging_fraction': 0.8,\n",
        "    'bagging_freq': 5,\n",
        "    'verbose': 0\n",
        "}\n",
        "\n",
        "# Train the model\n",
        "model = lgb.train(\n",
        "    params,\n",
        "    train_data,\n",
        "    num_boost_round=100,\n",
        "    valid_sets=[train_data, test_data],\n",
        "    callbacks=[lgb.early_stopping(stopping_rounds=10)]\n",
        ")"
      ],
      "metadata": {
        "colab": {
          "base_uri": "https://localhost:8080/"
        },
        "id": "pWvvbiTV3r4E",
        "outputId": "996f6b6a-fd6a-498a-b071-f4ba1c10e1a0"
      },
      "execution_count": 41,
      "outputs": [
        {
          "output_type": "stream",
          "name": "stdout",
          "text": [
            "[LightGBM] [Warning] Found whitespace in feature_names, replace with underlines\n",
            "[LightGBM] [Warning] Found whitespace in feature_names, replace with underlines\n",
            "Training until validation scores don't improve for 10 rounds\n",
            "Did not meet early stopping. Best iteration is:\n",
            "[100]\ttraining's multi_logloss: 1.92116\tvalid_1's multi_logloss: 1.92962\n"
          ]
        }
      ]
    },
    {
      "cell_type": "code",
      "source": [
        "# Prediction and Evaluation\n",
        "from sklearn.metrics import accuracy_score, classification_report\n",
        "\n",
        "# Make predictions\n",
        "y_pred = model.predict(X_test, num_iteration=model.best_iteration)\n",
        "y_pred_classes = np.argmax(y_pred, axis=1)\n",
        "\n",
        "# Calculate accuracy\n",
        "accuracy = accuracy_score(y_test, y_pred_classes)\n",
        "print(f\"Accuracy: {accuracy}\")\n",
        "\n",
        "# Classification report\n",
        "print(classification_report(y_test, y_pred_classes))"
      ],
      "metadata": {
        "colab": {
          "base_uri": "https://localhost:8080/"
        },
        "id": "IvcnaceR4hHk",
        "outputId": "8c3ea1bf-a3e6-4004-ea48-8ea7a31be601"
      },
      "execution_count": 42,
      "outputs": [
        {
          "output_type": "stream",
          "name": "stdout",
          "text": [
            "Accuracy: 0.1823\n",
            "              precision    recall  f1-score   support\n",
            "\n",
            "           0       0.18      0.22      0.20     22777\n",
            "           1       0.18      0.26      0.21     22887\n",
            "           2       0.18      0.24      0.21     22491\n",
            "           3       0.19      0.17      0.18     22178\n",
            "           4       0.18      0.22      0.19     22232\n",
            "           5       0.19      0.09      0.12     18972\n",
            "           6       0.19      0.03      0.06     18463\n",
            "\n",
            "    accuracy                           0.18    150000\n",
            "   macro avg       0.18      0.18      0.17    150000\n",
            "weighted avg       0.18      0.18      0.17    150000\n",
            "\n"
          ]
        }
      ]
    },
    {
      "cell_type": "markdown",
      "source": [
        "## 3. Output the Map@3 testing"
      ],
      "metadata": {
        "id": "yFC_LRAa5Pbn"
      }
    },
    {
      "cell_type": "code",
      "source": [
        "sample_df = pd.read_csv(os.path.join(base_folder, 'sample_submission.csv'))\n",
        "sample_df.head()"
      ],
      "metadata": {
        "colab": {
          "base_uri": "https://localhost:8080/",
          "height": 206
        },
        "id": "Z4R6tCr35VnY",
        "outputId": "1f7517dc-d024-4ec8-a2ae-5332b64b0b02"
      },
      "execution_count": 43,
      "outputs": [
        {
          "output_type": "execute_result",
          "data": {
            "text/plain": [
              "       id         Fertilizer Name\n",
              "0  750000  14-35-14 10-26-26 Urea\n",
              "1  750001  14-35-14 10-26-26 Urea\n",
              "2  750002  14-35-14 10-26-26 Urea\n",
              "3  750003  14-35-14 10-26-26 Urea\n",
              "4  750004  14-35-14 10-26-26 Urea"
            ],
            "text/html": [
              "\n",
              "  <div id=\"df-0f23ec96-f2e5-4b09-a014-082486fae3f6\" class=\"colab-df-container\">\n",
              "    <div>\n",
              "<style scoped>\n",
              "    .dataframe tbody tr th:only-of-type {\n",
              "        vertical-align: middle;\n",
              "    }\n",
              "\n",
              "    .dataframe tbody tr th {\n",
              "        vertical-align: top;\n",
              "    }\n",
              "\n",
              "    .dataframe thead th {\n",
              "        text-align: right;\n",
              "    }\n",
              "</style>\n",
              "<table border=\"1\" class=\"dataframe\">\n",
              "  <thead>\n",
              "    <tr style=\"text-align: right;\">\n",
              "      <th></th>\n",
              "      <th>id</th>\n",
              "      <th>Fertilizer Name</th>\n",
              "    </tr>\n",
              "  </thead>\n",
              "  <tbody>\n",
              "    <tr>\n",
              "      <th>0</th>\n",
              "      <td>750000</td>\n",
              "      <td>14-35-14 10-26-26 Urea</td>\n",
              "    </tr>\n",
              "    <tr>\n",
              "      <th>1</th>\n",
              "      <td>750001</td>\n",
              "      <td>14-35-14 10-26-26 Urea</td>\n",
              "    </tr>\n",
              "    <tr>\n",
              "      <th>2</th>\n",
              "      <td>750002</td>\n",
              "      <td>14-35-14 10-26-26 Urea</td>\n",
              "    </tr>\n",
              "    <tr>\n",
              "      <th>3</th>\n",
              "      <td>750003</td>\n",
              "      <td>14-35-14 10-26-26 Urea</td>\n",
              "    </tr>\n",
              "    <tr>\n",
              "      <th>4</th>\n",
              "      <td>750004</td>\n",
              "      <td>14-35-14 10-26-26 Urea</td>\n",
              "    </tr>\n",
              "  </tbody>\n",
              "</table>\n",
              "</div>\n",
              "    <div class=\"colab-df-buttons\">\n",
              "\n",
              "  <div class=\"colab-df-container\">\n",
              "    <button class=\"colab-df-convert\" onclick=\"convertToInteractive('df-0f23ec96-f2e5-4b09-a014-082486fae3f6')\"\n",
              "            title=\"Convert this dataframe to an interactive table.\"\n",
              "            style=\"display:none;\">\n",
              "\n",
              "  <svg xmlns=\"http://www.w3.org/2000/svg\" height=\"24px\" viewBox=\"0 -960 960 960\">\n",
              "    <path d=\"M120-120v-720h720v720H120Zm60-500h600v-160H180v160Zm220 220h160v-160H400v160Zm0 220h160v-160H400v160ZM180-400h160v-160H180v160Zm440 0h160v-160H620v160ZM180-180h160v-160H180v160Zm440 0h160v-160H620v160Z\"/>\n",
              "  </svg>\n",
              "    </button>\n",
              "\n",
              "  <style>\n",
              "    .colab-df-container {\n",
              "      display:flex;\n",
              "      gap: 12px;\n",
              "    }\n",
              "\n",
              "    .colab-df-convert {\n",
              "      background-color: #E8F0FE;\n",
              "      border: none;\n",
              "      border-radius: 50%;\n",
              "      cursor: pointer;\n",
              "      display: none;\n",
              "      fill: #1967D2;\n",
              "      height: 32px;\n",
              "      padding: 0 0 0 0;\n",
              "      width: 32px;\n",
              "    }\n",
              "\n",
              "    .colab-df-convert:hover {\n",
              "      background-color: #E2EBFA;\n",
              "      box-shadow: 0px 1px 2px rgba(60, 64, 67, 0.3), 0px 1px 3px 1px rgba(60, 64, 67, 0.15);\n",
              "      fill: #174EA6;\n",
              "    }\n",
              "\n",
              "    .colab-df-buttons div {\n",
              "      margin-bottom: 4px;\n",
              "    }\n",
              "\n",
              "    [theme=dark] .colab-df-convert {\n",
              "      background-color: #3B4455;\n",
              "      fill: #D2E3FC;\n",
              "    }\n",
              "\n",
              "    [theme=dark] .colab-df-convert:hover {\n",
              "      background-color: #434B5C;\n",
              "      box-shadow: 0px 1px 3px 1px rgba(0, 0, 0, 0.15);\n",
              "      filter: drop-shadow(0px 1px 2px rgba(0, 0, 0, 0.3));\n",
              "      fill: #FFFFFF;\n",
              "    }\n",
              "  </style>\n",
              "\n",
              "    <script>\n",
              "      const buttonEl =\n",
              "        document.querySelector('#df-0f23ec96-f2e5-4b09-a014-082486fae3f6 button.colab-df-convert');\n",
              "      buttonEl.style.display =\n",
              "        google.colab.kernel.accessAllowed ? 'block' : 'none';\n",
              "\n",
              "      async function convertToInteractive(key) {\n",
              "        const element = document.querySelector('#df-0f23ec96-f2e5-4b09-a014-082486fae3f6');\n",
              "        const dataTable =\n",
              "          await google.colab.kernel.invokeFunction('convertToInteractive',\n",
              "                                                    [key], {});\n",
              "        if (!dataTable) return;\n",
              "\n",
              "        const docLinkHtml = 'Like what you see? Visit the ' +\n",
              "          '<a target=\"_blank\" href=https://colab.research.google.com/notebooks/data_table.ipynb>data table notebook</a>'\n",
              "          + ' to learn more about interactive tables.';\n",
              "        element.innerHTML = '';\n",
              "        dataTable['output_type'] = 'display_data';\n",
              "        await google.colab.output.renderOutput(dataTable, element);\n",
              "        const docLink = document.createElement('div');\n",
              "        docLink.innerHTML = docLinkHtml;\n",
              "        element.appendChild(docLink);\n",
              "      }\n",
              "    </script>\n",
              "  </div>\n",
              "\n",
              "\n",
              "    <div id=\"df-74fea0e8-c5e1-4e2c-8918-9f65dcb09086\">\n",
              "      <button class=\"colab-df-quickchart\" onclick=\"quickchart('df-74fea0e8-c5e1-4e2c-8918-9f65dcb09086')\"\n",
              "                title=\"Suggest charts\"\n",
              "                style=\"display:none;\">\n",
              "\n",
              "<svg xmlns=\"http://www.w3.org/2000/svg\" height=\"24px\"viewBox=\"0 0 24 24\"\n",
              "     width=\"24px\">\n",
              "    <g>\n",
              "        <path d=\"M19 3H5c-1.1 0-2 .9-2 2v14c0 1.1.9 2 2 2h14c1.1 0 2-.9 2-2V5c0-1.1-.9-2-2-2zM9 17H7v-7h2v7zm4 0h-2V7h2v10zm4 0h-2v-4h2v4z\"/>\n",
              "    </g>\n",
              "</svg>\n",
              "      </button>\n",
              "\n",
              "<style>\n",
              "  .colab-df-quickchart {\n",
              "      --bg-color: #E8F0FE;\n",
              "      --fill-color: #1967D2;\n",
              "      --hover-bg-color: #E2EBFA;\n",
              "      --hover-fill-color: #174EA6;\n",
              "      --disabled-fill-color: #AAA;\n",
              "      --disabled-bg-color: #DDD;\n",
              "  }\n",
              "\n",
              "  [theme=dark] .colab-df-quickchart {\n",
              "      --bg-color: #3B4455;\n",
              "      --fill-color: #D2E3FC;\n",
              "      --hover-bg-color: #434B5C;\n",
              "      --hover-fill-color: #FFFFFF;\n",
              "      --disabled-bg-color: #3B4455;\n",
              "      --disabled-fill-color: #666;\n",
              "  }\n",
              "\n",
              "  .colab-df-quickchart {\n",
              "    background-color: var(--bg-color);\n",
              "    border: none;\n",
              "    border-radius: 50%;\n",
              "    cursor: pointer;\n",
              "    display: none;\n",
              "    fill: var(--fill-color);\n",
              "    height: 32px;\n",
              "    padding: 0;\n",
              "    width: 32px;\n",
              "  }\n",
              "\n",
              "  .colab-df-quickchart:hover {\n",
              "    background-color: var(--hover-bg-color);\n",
              "    box-shadow: 0 1px 2px rgba(60, 64, 67, 0.3), 0 1px 3px 1px rgba(60, 64, 67, 0.15);\n",
              "    fill: var(--button-hover-fill-color);\n",
              "  }\n",
              "\n",
              "  .colab-df-quickchart-complete:disabled,\n",
              "  .colab-df-quickchart-complete:disabled:hover {\n",
              "    background-color: var(--disabled-bg-color);\n",
              "    fill: var(--disabled-fill-color);\n",
              "    box-shadow: none;\n",
              "  }\n",
              "\n",
              "  .colab-df-spinner {\n",
              "    border: 2px solid var(--fill-color);\n",
              "    border-color: transparent;\n",
              "    border-bottom-color: var(--fill-color);\n",
              "    animation:\n",
              "      spin 1s steps(1) infinite;\n",
              "  }\n",
              "\n",
              "  @keyframes spin {\n",
              "    0% {\n",
              "      border-color: transparent;\n",
              "      border-bottom-color: var(--fill-color);\n",
              "      border-left-color: var(--fill-color);\n",
              "    }\n",
              "    20% {\n",
              "      border-color: transparent;\n",
              "      border-left-color: var(--fill-color);\n",
              "      border-top-color: var(--fill-color);\n",
              "    }\n",
              "    30% {\n",
              "      border-color: transparent;\n",
              "      border-left-color: var(--fill-color);\n",
              "      border-top-color: var(--fill-color);\n",
              "      border-right-color: var(--fill-color);\n",
              "    }\n",
              "    40% {\n",
              "      border-color: transparent;\n",
              "      border-right-color: var(--fill-color);\n",
              "      border-top-color: var(--fill-color);\n",
              "    }\n",
              "    60% {\n",
              "      border-color: transparent;\n",
              "      border-right-color: var(--fill-color);\n",
              "    }\n",
              "    80% {\n",
              "      border-color: transparent;\n",
              "      border-right-color: var(--fill-color);\n",
              "      border-bottom-color: var(--fill-color);\n",
              "    }\n",
              "    90% {\n",
              "      border-color: transparent;\n",
              "      border-bottom-color: var(--fill-color);\n",
              "    }\n",
              "  }\n",
              "</style>\n",
              "\n",
              "      <script>\n",
              "        async function quickchart(key) {\n",
              "          const quickchartButtonEl =\n",
              "            document.querySelector('#' + key + ' button');\n",
              "          quickchartButtonEl.disabled = true;  // To prevent multiple clicks.\n",
              "          quickchartButtonEl.classList.add('colab-df-spinner');\n",
              "          try {\n",
              "            const charts = await google.colab.kernel.invokeFunction(\n",
              "                'suggestCharts', [key], {});\n",
              "          } catch (error) {\n",
              "            console.error('Error during call to suggestCharts:', error);\n",
              "          }\n",
              "          quickchartButtonEl.classList.remove('colab-df-spinner');\n",
              "          quickchartButtonEl.classList.add('colab-df-quickchart-complete');\n",
              "        }\n",
              "        (() => {\n",
              "          let quickchartButtonEl =\n",
              "            document.querySelector('#df-74fea0e8-c5e1-4e2c-8918-9f65dcb09086 button');\n",
              "          quickchartButtonEl.style.display =\n",
              "            google.colab.kernel.accessAllowed ? 'block' : 'none';\n",
              "        })();\n",
              "      </script>\n",
              "    </div>\n",
              "\n",
              "    </div>\n",
              "  </div>\n"
            ],
            "application/vnd.google.colaboratory.intrinsic+json": {
              "type": "dataframe",
              "variable_name": "sample_df"
            }
          },
          "metadata": {},
          "execution_count": 43
        }
      ]
    },
    {
      "cell_type": "code",
      "source": [
        "# Prepare Test features\n",
        "test_features = test_df[feature_cols]\n",
        "\n",
        "# Predict probablility\n",
        "test_probs = model.predict(test_features, num_iteration=model.best_iteration)\n",
        "\n",
        "# Get top 3 indices\n",
        "top3_indices = np.argsort(test_probs, axis=1)[:, -3:][:, ::-1]\n",
        "\n",
        "# Convert indices back to fertilizer names\n",
        "fertilizer_names = target_encoder.inverse_transform(top3_indices.flatten()).reshape(-1, 3)\n",
        "\n",
        "# Create submission DataFrame\n",
        "submission = pd.DataFrame({\n",
        "    'id': test_df['id'],\n",
        "    'Fertilizer Name': [' '.join(row) for row in fertilizer_names]\n",
        "})\n",
        "\n",
        "# Save submission\n",
        "submission.to_csv('submission.csv', index=False)\n",
        "print(submission.head())"
      ],
      "metadata": {
        "colab": {
          "base_uri": "https://localhost:8080/"
        },
        "id": "7pP_dqwX6n8l",
        "outputId": "aba03fd5-84d1-4a2a-9ede-95521b4298fa"
      },
      "execution_count": 44,
      "outputs": [
        {
          "output_type": "stream",
          "name": "stdout",
          "text": [
            "       id             Fertilizer Name\n",
            "0  750000          DAP 10-26-26 28-28\n",
            "1  750001     17-17-17 20-20 10-26-26\n",
            "2  750002        20-20 14-35-14 28-28\n",
            "3  750003  14-35-14 17-17-17 10-26-26\n",
            "4  750004        20-20 28-28 17-17-17\n"
          ]
        }
      ]
    }
  ]
}