{
 "cells": [
  {
   "cell_type": "markdown",
   "metadata": {},
   "source": [
    "## Binary Classification with Bank Churn Dataset - Kaggle Playground S04E01\n",
    "### *Objective*: To predict whether a customer will continue with the account or close it (e.g.churn)"
   ]
  }
 ],
 "metadata": {
  "language_info": {
   "name": "python"
  }
 },
 "nbformat": 4,
 "nbformat_minor": 2
}
